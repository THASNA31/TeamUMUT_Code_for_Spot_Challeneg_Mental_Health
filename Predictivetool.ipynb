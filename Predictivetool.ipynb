{
 "cells": [
  {
   "cell_type": "code",
   "execution_count": 1,
   "metadata": {},
   "outputs": [],
   "source": [
    "import matplotlib.pyplot as plt\n",
    "import pandas as pd\n",
    "import numpy as np\n",
    "import matplotlib.pyplot as plt\n",
    "from sklearn import linear_model\n",
    "from sklearn.metrics import mean_squared_error, r2_score\n",
    "from sklearn.model_selection import train_test_split\n",
    "import plotly.graph_objects as go\n",
    "import plotly as plotlyoffline\n",
    "import plotly.express as px\n",
    "import sklearn.utils._cython_blas\n",
    "import sklearn.neighbors.typedefs\n",
    "import sklearn.neighbors.quad_tree\n",
    "import sklearn.tree\n",
    "import sklearn.tree._utils"
   ]
  },
  {
   "cell_type": "code",
   "execution_count": 2,
   "metadata": {},
   "outputs": [],
   "source": [
    "# Import data\n",
    "df_data = pd.read_csv('Mental_Health_CfC_State.csv')\n",
    "df_data = df_data.fillna(0)\n",
    "df_data = df_data[df_data['State'] != 'Hawaii']\n",
    "df_data = df_data[df_data['State'] != 'Maine']\n",
    "df_data = df_data[df_data['State'] != 'Montana']\n",
    "df_data = df_data[df_data['State'] != 'North Dakota']\n",
    "df_data = df_data[df_data['State'] != 'West Virginia']"
   ]
  },
  {
   "cell_type": "code",
   "execution_count": 3,
   "metadata": {},
   "outputs": [],
   "source": [
    "state_list = df_data['State'].unique().tolist()\n",
    "df_final = pd.DataFrame(columns = ['State','Intercept','Coeff_HI','Coeff_Death','Coeff_UC','RMSE','R_squared','Predicted_AnxDep'])\n",
    "df_final['State'] = state_list"
   ]
  },
  {
   "cell_type": "code",
   "execution_count": 4,
   "metadata": {},
   "outputs": [],
   "source": [
    "for i in range(len(df_final)):\n",
    "    us_state = df_final['State'][i]\n",
    "    data_state = df_data[df_data['State'] == us_state]\n",
    "    \n",
    "    #extract columns with numerical data (exclude response variable)\n",
    "    df = data_state.iloc[:, [2,4,5]]\n",
    "    #normalize the dataset\n",
    "    data_norm = df.sub(df.mean(axis=0), axis=1)/df.mean(axis=0)\n",
    "    #add the response variable(and non-numeric variables removed above)\n",
    "    data_norm['Hispanic_AnxDep'] = data_state['Hispanic_AnxDep']\n",
    "\n",
    "    #data_norm2 = (data-data.min())/(data.max()-data.min())\n",
    "\n",
    "    #Building the model\n",
    "    df_1 = data_norm.values\n",
    "    #X is the set of independent variables\n",
    "    X = df_1[:,0:3]\n",
    "    #Y is the dependent variable\n",
    "    Y = df_1[:,3]\n",
    "    #split into train and test set\n",
    "    X_train, X_test, Y_train, Y_test = train_test_split(X, Y, test_size=0.2, random_state= 0)\n",
    "\n",
    "    #Build the model\n",
    "    Model = linear_model.LinearRegression()\n",
    "    Model.fit(X_train, Y_train)\n",
    "    y_pred = Model.predict(X_test)\n",
    "\n",
    "    # Root Mean Squared Deviation\n",
    "    rmsd = np.sqrt(mean_squared_error(Y_test, y_pred))      \n",
    "    corr_matrix = np.corrcoef(Y_test, y_pred)\n",
    "    r2_value = (corr_matrix[0,1])**2\n",
    "    y_tplus1 = Model.intercept_ + Model.coef_[0]*X[-1,0] + Model.coef_[1]*X[-1,1] + Model.coef_[2]*X[-1,2]\n",
    "    \n",
    "    df_final['Intercept'][i] = Model.intercept_\n",
    "    df_final['Coeff_HI'][i] = Model.coef_[0]\n",
    "    df_final['Coeff_Death'][i] = Model.coef_[1]\n",
    "    df_final['Coeff_UC'][i] = Model.coef_[2]\n",
    "    df_final['RMSE'][i] = rmsd\n",
    "    df_final['R_squared'][i] = r2_value\n",
    "    df_final['Predicted_AnxDep'][i] = y_tplus1\n"
   ]
  },
  {
   "cell_type": "code",
   "execution_count": 5,
   "metadata": {},
   "outputs": [
    {
     "data": {
      "text/plain": [
       "'R-squaredvalues_states.html'"
      ]
     },
     "execution_count": 5,
     "metadata": {},
     "output_type": "execute_result"
    }
   ],
   "source": [
    "# Create traces\n",
    "fig_Rs = go.Figure()\n",
    "fig_Rs.add_trace(go.Scatter(x=df_final['State'], y=df_final['R_squared'],\n",
    "                    mode='lines',\n",
    "                    name='lines'))\n",
    "\n",
    "# Edit the layout\n",
    "fig_Rs.update_layout(\n",
    "            template = \"ggplot2\",\n",
    "            title = 'R-squared values achieved across states',\n",
    "            xaxis_title='States',\n",
    "            yaxis_title='R-squared values',\n",
    "            autosize=False,\n",
    "            width=1200,\n",
    "            height=600,\n",
    "            showlegend = False,\n",
    "            margin ={'l':0,'t':0,'b':0,'r':0},\n",
    "            hovermode='closest',\n",
    "        )\n",
    "\n",
    "fig_Rs.add_annotation(dict(font=dict(color='black',size=16),\n",
    "                                        x=0.01,\n",
    "                                        y=1,\n",
    "                                        showarrow=False,\n",
    "                                        text='R-squared (Interactive)',\n",
    "                                        textangle=0,\n",
    "                                        xanchor='left',\n",
    "                                        xref=\"paper\",\n",
    "                                        yref=\"paper\"))\n",
    "\n",
    "\n",
    "plotlyoffline.offline.plot(fig_Rs, filename = 'R-squaredvalues_states.html', \n",
    "                         include_plotlyjs='https://cdn.plot.ly/plotly-1.42.3.min.js') #offline version"
   ]
  },
  {
   "cell_type": "code",
   "execution_count": 6,
   "metadata": {},
   "outputs": [
    {
     "data": {
      "text/plain": [
       "'RMSE_states.html'"
      ]
     },
     "execution_count": 6,
     "metadata": {},
     "output_type": "execute_result"
    }
   ],
   "source": [
    "# Create traces\n",
    "fig_RMSE = go.Figure()\n",
    "fig_RMSE.add_trace(go.Scatter(x=df_final['State'], y=df_final['RMSE'],\n",
    "                    mode='lines',\n",
    "                    name='lines'))\n",
    "\n",
    "# Edit the layout\n",
    "fig_RMSE.update_layout(\n",
    "            template = \"plotly_white\",\n",
    "            title = 'RMSE values achieved across states',\n",
    "            xaxis_title='States',\n",
    "            yaxis_title='RMSE',\n",
    "            autosize=False,\n",
    "            width=1200,\n",
    "            height=600,\n",
    "            showlegend = False,\n",
    "            margin ={'l':0,'t':0,'b':0,'r':0},\n",
    "            hovermode='closest',\n",
    "        )\n",
    "\n",
    "fig_RMSE.add_annotation(dict(font=dict(color='black',size=16),\n",
    "                                        x=0.01,\n",
    "                                        y=1,\n",
    "                                        showarrow=False,\n",
    "                                        text='RMSE (Interactive)',\n",
    "                                        textangle=0,\n",
    "                                        xanchor='left',\n",
    "                                        xref=\"paper\",\n",
    "                                        yref=\"paper\"))\n",
    "\n",
    "\n",
    "plotlyoffline.offline.plot(fig_RMSE, filename = 'RMSE_states.html', \n",
    "                         include_plotlyjs='https://cdn.plot.ly/plotly-1.42.3.min.js') #offline version"
   ]
  },
  {
   "cell_type": "code",
   "execution_count": 7,
   "metadata": {},
   "outputs": [
    {
     "data": {
      "text/plain": [
       "'Prediction_states.html'"
      ]
     },
     "execution_count": 7,
     "metadata": {},
     "output_type": "execute_result"
    }
   ],
   "source": [
    "# Create traces\n",
    "fig_Pred = go.Figure()\n",
    "fig_Pred.add_trace(go.Scatter(x=df_final['State'], y=df_final['Predicted_AnxDep'],\n",
    "                    mode='lines',\n",
    "                    name='lines'))\n",
    "\n",
    "# Edit the layout\n",
    "fig_Pred.update_layout(\n",
    "            template = \"plotly_white\",\n",
    "            title = 'Predicted percentage of adults showing symptoms of anxiety and disorders in next 2-weeks',\n",
    "            xaxis_title='States',\n",
    "            yaxis_title='Predicted anxiety and disorder level',\n",
    "            autosize=False,\n",
    "            width=1200,\n",
    "            height=600,\n",
    "            showlegend = False,\n",
    "            margin ={'l':0,'t':0,'b':0,'r':0},\n",
    "            hovermode='closest',\n",
    "        )\n",
    "\n",
    "fig_Pred.add_annotation(dict(font=dict(color='black',size=12),\n",
    "                                        x=0.01,\n",
    "                                        y=1,\n",
    "                                        showarrow=False,\n",
    "                                        text='Predicted percentage of adults showing symptoms of anxiety and disorders in next 2-weeks (Interactive)',\n",
    "                                        textangle=0,\n",
    "                                        xanchor='left',\n",
    "                                        xref=\"paper\",\n",
    "                                        yref=\"paper\"))\n",
    "\n",
    "\n",
    "plotlyoffline.offline.plot(fig_Pred, filename = 'Prediction_states.html', \n",
    "                         include_plotlyjs='https://cdn.plot.ly/plotly-1.42.3.min.js') #offline version"
   ]
  }
 ],
 "metadata": {
  "kernelspec": {
   "display_name": "Python 3",
   "language": "python",
   "name": "python3"
  },
  "language_info": {
   "codemirror_mode": {
    "name": "ipython",
    "version": 3
   },
   "file_extension": ".py",
   "mimetype": "text/x-python",
   "name": "python",
   "nbconvert_exporter": "python",
   "pygments_lexer": "ipython3",
   "version": "3.7.3"
  }
 },
 "nbformat": 4,
 "nbformat_minor": 2
}
