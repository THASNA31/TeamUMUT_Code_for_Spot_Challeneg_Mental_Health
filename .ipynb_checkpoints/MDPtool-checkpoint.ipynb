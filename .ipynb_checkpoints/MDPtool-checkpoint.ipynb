{
 "cells": [
  {
   "cell_type": "code",
   "execution_count": 1,
   "metadata": {},
   "outputs": [],
   "source": [
    "import numpy as np\n",
    "import pandas as pd\n",
    "import csv"
   ]
  },
  {
   "cell_type": "code",
   "execution_count": 2,
   "metadata": {},
   "outputs": [
    {
     "name": "stdout",
     "output_type": "stream",
     "text": [
      "Please input the cost for hiring one celebrity (cost_HC): 100000\n",
      "Please input the cost to increase the budget for social media advertersiing by 1% (cost_SMA): 50000\n",
      "Please input the cost to increase the number of paid position in telemdeicine by 1% (cost_TM): 30000\n",
      "Please input the cost to create one piece of art therapy (cost_TM): 20000\n",
      "Please input the cost to increse social awareness activity by 1% (cost_SAA): 10000\n",
      "Please input the cost to increase the number of online support groups by 1% (cost_SG): 2000\n"
     ]
    }
   ],
   "source": [
    "cost_HC = input('Please input the cost for hiring one celebrity (cost_HC): ')\n",
    "cost_SMA = input('Please input the cost to increase the budget for social media advertersiing by 1% (cost_SMA): ')\n",
    "cost_TM = input('Please input the cost to increase the number of paid position in telemdeicine by 1% (cost_TM): ')\n",
    "cost_AT = input('Please input the cost to create one piece of art therapy (cost_TM): ')\n",
    "cost_SAA = input('Please input the cost to increse social awareness activity by 1% (cost_SAA): ')\n",
    "cost_SG = input('Please input the cost to increase the number of online support groups by 1% (cost_SG): ')"
   ]
  },
  {
   "cell_type": "code",
   "execution_count": 3,
   "metadata": {},
   "outputs": [],
   "source": [
    "costs = {'HC':float(cost_HC), 'SMA':float(cost_SMA), 'TM':float(cost_TM), 'AT':float(cost_AT), 'SAA':float(cost_SAA), 'SG':float(cost_SG)}"
   ]
  },
  {
   "cell_type": "code",
   "execution_count": 4,
   "metadata": {},
   "outputs": [],
   "source": [
    "costs_sorted = sorted(costs.items(), key=lambda x: x[1], reverse=True)"
   ]
  },
  {
   "cell_type": "code",
   "execution_count": 5,
   "metadata": {},
   "outputs": [],
   "source": [
    "states = ['Red','Yellow','Blue']"
   ]
  },
  {
   "cell_type": "code",
   "execution_count": 6,
   "metadata": {},
   "outputs": [],
   "source": [
    "# TP algorithm to create transition probability matrix based on cost ordering\n",
    "\n",
    "transitions = []\n",
    "\n",
    "np.random.seed(99)\n",
    "prob = np.random.dirichlet(np.ones(len(costs_sorted)),size=1)[0].tolist()\n",
    "prob_asc = sorted(prob)\n",
    "prob_eq = (np.ones(len(costs_sorted))/len(costs_sorted)).tolist()\n",
    "sum_list = [a + b for a, b in zip(prob_asc, prob_eq)]\n",
    "prob_des = [1 - number for number in sum_list]\n",
    "\n",
    "for i in range(len(states)):\n",
    "    for j in range(len(states)):\n",
    "        for k in range(len(costs_sorted)):\n",
    "            if ((states[i] == 'Red') and (states[j] == 'Red')):\n",
    "                transitions.append([states[i], costs_sorted[k][0], states[j], prob_asc[k]])\n",
    "            elif ((states[i] == 'Red') and (states[j] == 'Yellow')):\n",
    "                transitions.append([states[i], costs_sorted[k][0], states[j], prob_eq[k]])\n",
    "            elif ((states[i] == 'Red') and (states[j] == 'Blue')):\n",
    "                transitions.append([states[i], costs_sorted[k][0], states[j], prob_des[k]])\n",
    "            elif ((states[i] == 'Yellow') and (states[j] == 'Red')):\n",
    "                transitions.append([states[i], costs_sorted[k][0], states[j], prob_asc[k]-0.002])\n",
    "            elif ((states[i] == 'Yellow') and (states[j] == 'Yellow')):\n",
    "                transitions.append([states[i], costs_sorted[k][0], states[j], prob_eq[k]])\n",
    "            elif ((states[i] == 'Yellow') and (states[j] == 'Blue')):\n",
    "                transitions.append([states[i], costs_sorted[k][0], states[j], prob_des[k]+0.002])\n",
    "            elif ((states[i] == 'Blue') and (states[j] == 'Red')):\n",
    "                transitions.append([states[i], costs_sorted[k][0], states[j], prob_asc[k]-0.004])\n",
    "            elif ((states[i] == 'Blue') and (states[j] == 'Yellow')):\n",
    "                transitions.append([states[i], costs_sorted[k][0], states[j], prob_eq[k]])\n",
    "            else:\n",
    "                transitions.append([states[i], costs_sorted[k][0], states[j], prob_des[k]+0.004])\n",
    "                \n",
    "        \n",
    "    "
   ]
  },
  {
   "cell_type": "code",
   "execution_count": 7,
   "metadata": {
    "scrolled": true
   },
   "outputs": [
    {
     "data": {
      "text/html": [
       "<div>\n",
       "<style scoped>\n",
       "    .dataframe tbody tr th:only-of-type {\n",
       "        vertical-align: middle;\n",
       "    }\n",
       "\n",
       "    .dataframe tbody tr th {\n",
       "        vertical-align: top;\n",
       "    }\n",
       "\n",
       "    .dataframe thead th {\n",
       "        text-align: right;\n",
       "    }\n",
       "</style>\n",
       "<table border=\"1\" class=\"dataframe\">\n",
       "  <thead>\n",
       "    <tr style=\"text-align: right;\">\n",
       "      <th></th>\n",
       "      <th>From_State</th>\n",
       "      <th>Action</th>\n",
       "      <th>To_State</th>\n",
       "      <th>Probability</th>\n",
       "    </tr>\n",
       "  </thead>\n",
       "  <tbody>\n",
       "    <tr>\n",
       "      <th>0</th>\n",
       "      <td>Red</td>\n",
       "      <td>HC</td>\n",
       "      <td>Red</td>\n",
       "      <td>0.005284</td>\n",
       "    </tr>\n",
       "    <tr>\n",
       "      <th>1</th>\n",
       "      <td>Red</td>\n",
       "      <td>SMA</td>\n",
       "      <td>Red</td>\n",
       "      <td>0.110725</td>\n",
       "    </tr>\n",
       "    <tr>\n",
       "      <th>2</th>\n",
       "      <td>Red</td>\n",
       "      <td>TM</td>\n",
       "      <td>Red</td>\n",
       "      <td>0.137885</td>\n",
       "    </tr>\n",
       "    <tr>\n",
       "      <th>3</th>\n",
       "      <td>Red</td>\n",
       "      <td>AT</td>\n",
       "      <td>Red</td>\n",
       "      <td>0.184478</td>\n",
       "    </tr>\n",
       "    <tr>\n",
       "      <th>4</th>\n",
       "      <td>Red</td>\n",
       "      <td>SAA</td>\n",
       "      <td>Red</td>\n",
       "      <td>0.272936</td>\n",
       "    </tr>\n",
       "  </tbody>\n",
       "</table>\n",
       "</div>"
      ],
      "text/plain": [
       "  From_State Action To_State  Probability\n",
       "0        Red     HC      Red     0.005284\n",
       "1        Red    SMA      Red     0.110725\n",
       "2        Red     TM      Red     0.137885\n",
       "3        Red     AT      Red     0.184478\n",
       "4        Red    SAA      Red     0.272936"
      ]
     },
     "execution_count": 7,
     "metadata": {},
     "output_type": "execute_result"
    }
   ],
   "source": [
    "cols = ['From_State','Action','To_State','Probability']\n",
    "df_transitions = pd.DataFrame(transitions,columns=cols)\n",
    "df_transitions.head()"
   ]
  },
  {
   "cell_type": "code",
   "execution_count": 8,
   "metadata": {},
   "outputs": [],
   "source": [
    "df_transitions.to_csv('transitions.csv',index=False, header=False)"
   ]
  },
  {
   "cell_type": "code",
   "execution_count": 9,
   "metadata": {},
   "outputs": [
    {
     "name": "stdout",
     "output_type": "stream",
     "text": [
      "State - Value\n",
      "Red  -  195.53376413276885\n",
      "Yellow  -  265.7263805051605\n",
      "Blue  -  315.9189968775522\n",
      "\n",
      "Optimal policy is \n",
      "State - Action\n",
      "Red  -  HC\n",
      "Yellow  -  HC\n",
      "Blue  -  HC\n"
     ]
    }
   ],
   "source": [
    "# Problm Parameters\n",
    "gamma = 0.8;\n",
    "epsilon = 0.001;\n",
    "\n",
    "    \n",
    "# Read the probability transition data (S*S*A), and rewad data (S*A)\n",
    "Transitions = {}; # dictionary\n",
    "Reward = {}; # dictionary\n",
    "\n",
    "with open('transitions.csv', 'r') as csvfile:\n",
    "    #reader = pd.read_csv(csvfile,delimiter=',');\n",
    "    reader = csv.reader(csvfile, delimiter=',')\n",
    "    for row in reader:\n",
    "        if row[0] in Transitions:\n",
    "            if row[1] in Transitions[row[0]]:\n",
    "                Transitions[row[0]][row[1]].append((float(row[3]), row[2]))\n",
    "            else:\n",
    "                Transitions[row[0]][row[1]] = [(float(row[3]), row[2])]\n",
    "        else:\n",
    "            Transitions[row[0]] = {row[1]:[(float(row[3]),row[2])]}\n",
    "\n",
    "    #read rewards file and save it to a variable\n",
    "with open('rewards.csv', 'r') as csvfile:\n",
    "    reader = csv.reader(csvfile, delimiter=',')\n",
    "    for row in reader:\n",
    "        Reward[row[0]] = float(row[1]) if row[1] != 'None' else None  \n",
    "#%% Value iteration: Main loop\n",
    "\"\"\"\n",
    "Solving the MDP by value iteration.\n",
    "returns utility values for states after convergence\n",
    "\"\"\"\n",
    "states =  Transitions.keys();\n",
    "#actions = mdp.actions\n",
    "#print(states); print(actions);\n",
    "#initialize value of all the states to 0 (this is k=0 case)\n",
    "V1 = {s: 0 for s in states}\n",
    "while True:\n",
    "    V = V1.copy()\n",
    "    delta = 0\n",
    "    for s in states:\n",
    "        #Bellman update, update the utility values\n",
    "        V1[s] = Reward[s] + gamma * max([ sum([p * V[s1] for (p, s1)\n",
    "        in Transitions[s][a]]) for a in Transitions[s].keys()]);\n",
    "        #calculate maximum difference in value\n",
    "        delta = max(delta, abs(V1[s] - V[s]))\n",
    "\n",
    "    #check for convergence, if values converged then return V\n",
    "    if delta < epsilon * (1 - gamma) / gamma:\n",
    "        break;\n",
    "        \n",
    "        \n",
    "#%% Post solution analysis   \n",
    "pi = {}\n",
    "for s in states:\n",
    "    pi[s] = max(Transitions[s], key=lambda a: sum([p * V[s1] for (p, s1) in Transitions[s][a]])); \n",
    "       \n",
    "print( 'State - Value')\n",
    "for s in V:\n",
    "    print( s, ' - ' , V[s]);\n",
    "print ('\\nOptimal policy is \\nState - Action')\n",
    "for s in pi:\n",
    "    print( s, ' - ' , pi[s]);"
   ]
  },
  {
   "cell_type": "code",
   "execution_count": null,
   "metadata": {},
   "outputs": [],
   "source": []
  }
 ],
 "metadata": {
  "kernelspec": {
   "display_name": "Python 3",
   "language": "python",
   "name": "python3"
  },
  "language_info": {
   "codemirror_mode": {
    "name": "ipython",
    "version": 3
   },
   "file_extension": ".py",
   "mimetype": "text/x-python",
   "name": "python",
   "nbconvert_exporter": "python",
   "pygments_lexer": "ipython3",
   "version": "3.7.3"
  }
 },
 "nbformat": 4,
 "nbformat_minor": 2
}
